{
  "cells": [
    {
      "cell_type": "code",
      "execution_count": 1,
      "metadata": {
        "id": "yi0h9_TWxK2V"
      },
      "outputs": [],
      "source": [
        "# libraries importing\n",
        "import pandas as pd\n",
        "import matplotlib.pyplot as plt\n",
        "%matplotlib inline\n",
        "\n",
        "# additional modules\n",
        "import sys\n",
        "sys.path.append('../utils')\n",
        "#from evaluating import evaluating_change_point"
      ]
    },
    {
      "cell_type": "markdown",
      "metadata": {
        "id": "Kys9mLfaxK2X"
      },
      "source": [
        "## Data loading"
      ]
    },
    {
      "cell_type": "code",
      "execution_count": null,
      "metadata": {
        "id": "vkSt5bodxK2Y"
      },
      "outputs": [],
      "source": [
        "# benchmark files checking\n",
        "#all_files=[]\n",
        "#import os\n",
        "#for root, dirs, files in os.walk(\"../data/\"):\n",
        "#    for file in files:\n",
        "#        if file.endswith(\"times.csv\"):\n",
        "#             all_files.append(os.path.join(root, file))"
      ]
    },
    {
      "cell_type": "code",
      "source": [
        "df = pd.read_csv(\"time.csv\", index_col='Date_Time', parse_dates=True)\n",
        "df"
      ],
      "metadata": {
        "colab": {
          "base_uri": "https://localhost:8080/",
          "height": 670
        },
        "id": "1BPXpKYW1G43",
        "outputId": "d8c1c501-833b-4fb3-8edb-700ab8b5da57"
      },
      "execution_count": 2,
      "outputs": [
        {
          "output_type": "execute_result",
          "data": {
            "text/plain": [
              "                            Test_Time(s)  Cycle_Index  Current_A  Voltage(V)  \\\n",
              "Date_Time                                                                      \n",
              "2018-02-01 10:02:10.002962        10.002          1.0      0.000       2.940   \n",
              "2018-02-01 10:02:20.016433        20.016          1.0      0.000       2.941   \n",
              "2018-02-01 10:02:30.031429        30.031          1.0      0.000       2.941   \n",
              "2018-02-01 10:02:40.046426        40.046          1.0      0.000       2.941   \n",
              "2018-02-01 10:02:50.061462        50.061          1.0      0.000       2.941   \n",
              "...                                  ...          ...        ...         ...   \n",
              "2018-05-13 07:29:24.144877   6611771.681        590.0     -1.100       3.175   \n",
              "2018-05-13 07:31:24.152100   6611891.688        590.0     -1.100       3.168   \n",
              "2018-05-13 07:33:24.162624   6612011.699        590.0     -1.099       3.162   \n",
              "2018-05-13 07:35:24.175924   6612131.712        590.0     -1.100       3.157   \n",
              "2018-05-13 07:37:24.184009   6612251.720        590.0     -1.099       3.153   \n",
              "\n",
              "                            Charge_Capacity(Ah)  Discharge_Capacity  \\\n",
              "Date_Time                                                             \n",
              "2018-02-01 10:02:10.002962                0.000               0.000   \n",
              "2018-02-01 10:02:20.016433                0.000               0.000   \n",
              "2018-02-01 10:02:30.031429                0.000               0.000   \n",
              "2018-02-01 10:02:40.046426                0.000               0.000   \n",
              "2018-02-01 10:02:50.061462                0.000               0.000   \n",
              "...                                         ...                 ...   \n",
              "2018-05-13 07:29:24.144877                1.029               0.256   \n",
              "2018-05-13 07:31:24.152100                1.029               0.293   \n",
              "2018-05-13 07:33:24.162624                1.029               0.330   \n",
              "2018-05-13 07:35:24.175924                1.029               0.366   \n",
              "2018-05-13 07:37:24.184009                1.029               0.403   \n",
              "\n",
              "                            Charge_Energy(Wh)  Discharge_Energy(Wh)  \\\n",
              "Date_Time                                                             \n",
              "2018-02-01 10:02:10.002962              0.000                 0.000   \n",
              "2018-02-01 10:02:20.016433              0.000                 0.000   \n",
              "2018-02-01 10:02:30.031429              0.000                 0.000   \n",
              "2018-02-01 10:02:40.046426              0.000                 0.000   \n",
              "2018-02-01 10:02:50.061462              0.000                 0.000   \n",
              "...                                       ...                   ...   \n",
              "2018-05-13 07:29:24.144877              3.475                 0.822   \n",
              "2018-05-13 07:31:24.152100              3.475                 0.939   \n",
              "2018-05-13 07:33:24.162624              3.475                 1.055   \n",
              "2018-05-13 07:35:24.175924              3.475                 1.171   \n",
              "2018-05-13 07:37:24.184009              3.475                 1.286   \n",
              "\n",
              "                            Environment_Temperature  Cell_Temperature(C)  \n",
              "Date_Time                                                                 \n",
              "2018-02-01 10:02:10.002962                   15.163               15.375  \n",
              "2018-02-01 10:02:20.016433                   15.148               15.437  \n",
              "2018-02-01 10:02:30.031429                   15.087               15.375  \n",
              "2018-02-01 10:02:40.046426                   15.240               15.375  \n",
              "2018-02-01 10:02:50.061462                   15.087               15.375  \n",
              "...                                             ...                  ...  \n",
              "2018-05-13 07:29:24.144877                   14.990               16.429  \n",
              "2018-05-13 07:31:24.152100                   14.744               16.413  \n",
              "2018-05-13 07:33:24.162624                   14.713               16.382  \n",
              "2018-05-13 07:35:24.175924                   14.790               16.383  \n",
              "2018-05-13 07:37:24.184009                   14.590               16.259  \n",
              "\n",
              "[65534 rows x 10 columns]"
            ],
            "text/html": [
              "\n",
              "  <div id=\"df-7e648773-0f39-4faa-85fe-49e4fc29a800\">\n",
              "    <div class=\"colab-df-container\">\n",
              "      <div>\n",
              "<style scoped>\n",
              "    .dataframe tbody tr th:only-of-type {\n",
              "        vertical-align: middle;\n",
              "    }\n",
              "\n",
              "    .dataframe tbody tr th {\n",
              "        vertical-align: top;\n",
              "    }\n",
              "\n",
              "    .dataframe thead th {\n",
              "        text-align: right;\n",
              "    }\n",
              "</style>\n",
              "<table border=\"1\" class=\"dataframe\">\n",
              "  <thead>\n",
              "    <tr style=\"text-align: right;\">\n",
              "      <th></th>\n",
              "      <th>Test_Time(s)</th>\n",
              "      <th>Cycle_Index</th>\n",
              "      <th>Current_A</th>\n",
              "      <th>Voltage(V)</th>\n",
              "      <th>Charge_Capacity(Ah)</th>\n",
              "      <th>Discharge_Capacity</th>\n",
              "      <th>Charge_Energy(Wh)</th>\n",
              "      <th>Discharge_Energy(Wh)</th>\n",
              "      <th>Environment_Temperature</th>\n",
              "      <th>Cell_Temperature(C)</th>\n",
              "    </tr>\n",
              "    <tr>\n",
              "      <th>Date_Time</th>\n",
              "      <th></th>\n",
              "      <th></th>\n",
              "      <th></th>\n",
              "      <th></th>\n",
              "      <th></th>\n",
              "      <th></th>\n",
              "      <th></th>\n",
              "      <th></th>\n",
              "      <th></th>\n",
              "      <th></th>\n",
              "    </tr>\n",
              "  </thead>\n",
              "  <tbody>\n",
              "    <tr>\n",
              "      <th>2018-02-01 10:02:10.002962</th>\n",
              "      <td>10.002</td>\n",
              "      <td>1.0</td>\n",
              "      <td>0.000</td>\n",
              "      <td>2.940</td>\n",
              "      <td>0.000</td>\n",
              "      <td>0.000</td>\n",
              "      <td>0.000</td>\n",
              "      <td>0.000</td>\n",
              "      <td>15.163</td>\n",
              "      <td>15.375</td>\n",
              "    </tr>\n",
              "    <tr>\n",
              "      <th>2018-02-01 10:02:20.016433</th>\n",
              "      <td>20.016</td>\n",
              "      <td>1.0</td>\n",
              "      <td>0.000</td>\n",
              "      <td>2.941</td>\n",
              "      <td>0.000</td>\n",
              "      <td>0.000</td>\n",
              "      <td>0.000</td>\n",
              "      <td>0.000</td>\n",
              "      <td>15.148</td>\n",
              "      <td>15.437</td>\n",
              "    </tr>\n",
              "    <tr>\n",
              "      <th>2018-02-01 10:02:30.031429</th>\n",
              "      <td>30.031</td>\n",
              "      <td>1.0</td>\n",
              "      <td>0.000</td>\n",
              "      <td>2.941</td>\n",
              "      <td>0.000</td>\n",
              "      <td>0.000</td>\n",
              "      <td>0.000</td>\n",
              "      <td>0.000</td>\n",
              "      <td>15.087</td>\n",
              "      <td>15.375</td>\n",
              "    </tr>\n",
              "    <tr>\n",
              "      <th>2018-02-01 10:02:40.046426</th>\n",
              "      <td>40.046</td>\n",
              "      <td>1.0</td>\n",
              "      <td>0.000</td>\n",
              "      <td>2.941</td>\n",
              "      <td>0.000</td>\n",
              "      <td>0.000</td>\n",
              "      <td>0.000</td>\n",
              "      <td>0.000</td>\n",
              "      <td>15.240</td>\n",
              "      <td>15.375</td>\n",
              "    </tr>\n",
              "    <tr>\n",
              "      <th>2018-02-01 10:02:50.061462</th>\n",
              "      <td>50.061</td>\n",
              "      <td>1.0</td>\n",
              "      <td>0.000</td>\n",
              "      <td>2.941</td>\n",
              "      <td>0.000</td>\n",
              "      <td>0.000</td>\n",
              "      <td>0.000</td>\n",
              "      <td>0.000</td>\n",
              "      <td>15.087</td>\n",
              "      <td>15.375</td>\n",
              "    </tr>\n",
              "    <tr>\n",
              "      <th>...</th>\n",
              "      <td>...</td>\n",
              "      <td>...</td>\n",
              "      <td>...</td>\n",
              "      <td>...</td>\n",
              "      <td>...</td>\n",
              "      <td>...</td>\n",
              "      <td>...</td>\n",
              "      <td>...</td>\n",
              "      <td>...</td>\n",
              "      <td>...</td>\n",
              "    </tr>\n",
              "    <tr>\n",
              "      <th>2018-05-13 07:29:24.144877</th>\n",
              "      <td>6611771.681</td>\n",
              "      <td>590.0</td>\n",
              "      <td>-1.100</td>\n",
              "      <td>3.175</td>\n",
              "      <td>1.029</td>\n",
              "      <td>0.256</td>\n",
              "      <td>3.475</td>\n",
              "      <td>0.822</td>\n",
              "      <td>14.990</td>\n",
              "      <td>16.429</td>\n",
              "    </tr>\n",
              "    <tr>\n",
              "      <th>2018-05-13 07:31:24.152100</th>\n",
              "      <td>6611891.688</td>\n",
              "      <td>590.0</td>\n",
              "      <td>-1.100</td>\n",
              "      <td>3.168</td>\n",
              "      <td>1.029</td>\n",
              "      <td>0.293</td>\n",
              "      <td>3.475</td>\n",
              "      <td>0.939</td>\n",
              "      <td>14.744</td>\n",
              "      <td>16.413</td>\n",
              "    </tr>\n",
              "    <tr>\n",
              "      <th>2018-05-13 07:33:24.162624</th>\n",
              "      <td>6612011.699</td>\n",
              "      <td>590.0</td>\n",
              "      <td>-1.099</td>\n",
              "      <td>3.162</td>\n",
              "      <td>1.029</td>\n",
              "      <td>0.330</td>\n",
              "      <td>3.475</td>\n",
              "      <td>1.055</td>\n",
              "      <td>14.713</td>\n",
              "      <td>16.382</td>\n",
              "    </tr>\n",
              "    <tr>\n",
              "      <th>2018-05-13 07:35:24.175924</th>\n",
              "      <td>6612131.712</td>\n",
              "      <td>590.0</td>\n",
              "      <td>-1.100</td>\n",
              "      <td>3.157</td>\n",
              "      <td>1.029</td>\n",
              "      <td>0.366</td>\n",
              "      <td>3.475</td>\n",
              "      <td>1.171</td>\n",
              "      <td>14.790</td>\n",
              "      <td>16.383</td>\n",
              "    </tr>\n",
              "    <tr>\n",
              "      <th>2018-05-13 07:37:24.184009</th>\n",
              "      <td>6612251.720</td>\n",
              "      <td>590.0</td>\n",
              "      <td>-1.099</td>\n",
              "      <td>3.153</td>\n",
              "      <td>1.029</td>\n",
              "      <td>0.403</td>\n",
              "      <td>3.475</td>\n",
              "      <td>1.286</td>\n",
              "      <td>14.590</td>\n",
              "      <td>16.259</td>\n",
              "    </tr>\n",
              "  </tbody>\n",
              "</table>\n",
              "<p>65534 rows × 10 columns</p>\n",
              "</div>\n",
              "      <button class=\"colab-df-convert\" onclick=\"convertToInteractive('df-7e648773-0f39-4faa-85fe-49e4fc29a800')\"\n",
              "              title=\"Convert this dataframe to an interactive table.\"\n",
              "              style=\"display:none;\">\n",
              "        \n",
              "  <svg xmlns=\"http://www.w3.org/2000/svg\" height=\"24px\"viewBox=\"0 0 24 24\"\n",
              "       width=\"24px\">\n",
              "    <path d=\"M0 0h24v24H0V0z\" fill=\"none\"/>\n",
              "    <path d=\"M18.56 5.44l.94 2.06.94-2.06 2.06-.94-2.06-.94-.94-2.06-.94 2.06-2.06.94zm-11 1L8.5 8.5l.94-2.06 2.06-.94-2.06-.94L8.5 2.5l-.94 2.06-2.06.94zm10 10l.94 2.06.94-2.06 2.06-.94-2.06-.94-.94-2.06-.94 2.06-2.06.94z\"/><path d=\"M17.41 7.96l-1.37-1.37c-.4-.4-.92-.59-1.43-.59-.52 0-1.04.2-1.43.59L10.3 9.45l-7.72 7.72c-.78.78-.78 2.05 0 2.83L4 21.41c.39.39.9.59 1.41.59.51 0 1.02-.2 1.41-.59l7.78-7.78 2.81-2.81c.8-.78.8-2.07 0-2.86zM5.41 20L4 18.59l7.72-7.72 1.47 1.35L5.41 20z\"/>\n",
              "  </svg>\n",
              "      </button>\n",
              "      \n",
              "  <style>\n",
              "    .colab-df-container {\n",
              "      display:flex;\n",
              "      flex-wrap:wrap;\n",
              "      gap: 12px;\n",
              "    }\n",
              "\n",
              "    .colab-df-convert {\n",
              "      background-color: #E8F0FE;\n",
              "      border: none;\n",
              "      border-radius: 50%;\n",
              "      cursor: pointer;\n",
              "      display: none;\n",
              "      fill: #1967D2;\n",
              "      height: 32px;\n",
              "      padding: 0 0 0 0;\n",
              "      width: 32px;\n",
              "    }\n",
              "\n",
              "    .colab-df-convert:hover {\n",
              "      background-color: #E2EBFA;\n",
              "      box-shadow: 0px 1px 2px rgba(60, 64, 67, 0.3), 0px 1px 3px 1px rgba(60, 64, 67, 0.15);\n",
              "      fill: #174EA6;\n",
              "    }\n",
              "\n",
              "    [theme=dark] .colab-df-convert {\n",
              "      background-color: #3B4455;\n",
              "      fill: #D2E3FC;\n",
              "    }\n",
              "\n",
              "    [theme=dark] .colab-df-convert:hover {\n",
              "      background-color: #434B5C;\n",
              "      box-shadow: 0px 1px 3px 1px rgba(0, 0, 0, 0.15);\n",
              "      filter: drop-shadow(0px 1px 2px rgba(0, 0, 0, 0.3));\n",
              "      fill: #FFFFFF;\n",
              "    }\n",
              "  </style>\n",
              "\n",
              "      <script>\n",
              "        const buttonEl =\n",
              "          document.querySelector('#df-7e648773-0f39-4faa-85fe-49e4fc29a800 button.colab-df-convert');\n",
              "        buttonEl.style.display =\n",
              "          google.colab.kernel.accessAllowed ? 'block' : 'none';\n",
              "\n",
              "        async function convertToInteractive(key) {\n",
              "          const element = document.querySelector('#df-7e648773-0f39-4faa-85fe-49e4fc29a800');\n",
              "          const dataTable =\n",
              "            await google.colab.kernel.invokeFunction('convertToInteractive',\n",
              "                                                     [key], {});\n",
              "          if (!dataTable) return;\n",
              "\n",
              "          const docLinkHtml = 'Like what you see? Visit the ' +\n",
              "            '<a target=\"_blank\" href=https://colab.research.google.com/notebooks/data_table.ipynb>data table notebook</a>'\n",
              "            + ' to learn more about interactive tables.';\n",
              "          element.innerHTML = '';\n",
              "          dataTable['output_type'] = 'display_data';\n",
              "          await google.colab.output.renderOutput(dataTable, element);\n",
              "          const docLink = document.createElement('div');\n",
              "          docLink.innerHTML = docLinkHtml;\n",
              "          element.appendChild(docLink);\n",
              "        }\n",
              "      </script>\n",
              "    </div>\n",
              "  </div>\n",
              "  "
            ]
          },
          "metadata": {},
          "execution_count": 2
        }
      ]
    },
    {
      "cell_type": "code",
      "source": [
        "arr = df.Discharge_Capacity.to_numpy()\n",
        "time = df['Test_Time(s)'].to_numpy()\n",
        "plt.plot(time[:1000], arr[:1000])"
      ],
      "metadata": {
        "colab": {
          "base_uri": "https://localhost:8080/",
          "height": 281
        },
        "id": "MCK455Yy6SBc",
        "outputId": "4259b2d1-37e4-47d0-bf3a-0896edd5a3ec"
      },
      "execution_count": null,
      "outputs": [
        {
          "output_type": "execute_result",
          "data": {
            "text/plain": [
              "[<matplotlib.lines.Line2D at 0x7efe164b2990>]"
            ]
          },
          "metadata": {},
          "execution_count": 30
        },
        {
          "output_type": "display_data",
          "data": {
            "text/plain": [
              "<Figure size 432x288 with 1 Axes>"
            ],
            "image/png": "[encoded data removed]"
          },
          "metadata": {
            "needs_background": "light"
          }
        }
      ]
    },
    {
      "cell_type": "markdown",
      "metadata": {
        "id": "qyY8ttAaxK2Z"
      },
      "source": [
        "## Data description and visualization"
      ]
    },
    {
      "cell_type": "code",
      "execution_count": null,
      "metadata": {
        "colab": {
          "base_uri": "https://localhost:8080/",
          "height": 460
        },
        "id": "occBvz9HxK2a",
        "outputId": "ea637fed-f230-457d-d903-8138128ca0d3"
      },
      "outputs": [
        {
          "output_type": "stream",
          "name": "stdout",
          "text": [
            "A number of datasets in the SkAB v1.0: 0\n",
            "\n",
            "Shape of the random dataset: (65534, 10)\n",
            "\n",
            "Head of the random dataset:\n"
          ]
        },
        {
          "output_type": "display_data",
          "data": {
            "text/plain": [
              "                            Test_Time(s)  Cycle_Index  Current(A)  Voltage(V)  \\\n",
              "Date_Time                                                                       \n",
              "2018-02-01 10:02:10.002962        10.002          1.0         0.0       2.940   \n",
              "2018-02-01 10:02:20.016433        20.016          1.0         0.0       2.941   \n",
              "2018-02-01 10:02:30.031429        30.031          1.0         0.0       2.941   \n",
              "2018-02-01 10:02:40.046426        40.046          1.0         0.0       2.941   \n",
              "2018-02-01 10:02:50.061462        50.061          1.0         0.0       2.941   \n",
              "\n",
              "                            Charge_Capacity(Ah)  Discharge_Capacity(Ah)  \\\n",
              "Date_Time                                                                 \n",
              "2018-02-01 10:02:10.002962                  0.0                     0.0   \n",
              "2018-02-01 10:02:20.016433                  0.0                     0.0   \n",
              "2018-02-01 10:02:30.031429                  0.0                     0.0   \n",
              "2018-02-01 10:02:40.046426                  0.0                     0.0   \n",
              "2018-02-01 10:02:50.061462                  0.0                     0.0   \n",
              "\n",
              "                            Charge_Energy(Wh)  Discharge_Energy(Wh)  \\\n",
              "Date_Time                                                             \n",
              "2018-02-01 10:02:10.002962                0.0                   0.0   \n",
              "2018-02-01 10:02:20.016433                0.0                   0.0   \n",
              "2018-02-01 10:02:30.031429                0.0                   0.0   \n",
              "2018-02-01 10:02:40.046426                0.0                   0.0   \n",
              "2018-02-01 10:02:50.061462                0.0                   0.0   \n",
              "\n",
              "                            Environment_Temperature(C)  Cell_Temperature(C)  \n",
              "Date_Time                                                                    \n",
              "2018-02-01 10:02:10.002962                      15.163               15.375  \n",
              "2018-02-01 10:02:20.016433                      15.148               15.437  \n",
              "2018-02-01 10:02:30.031429                      15.087               15.375  \n",
              "2018-02-01 10:02:40.046426                      15.240               15.375  \n",
              "2018-02-01 10:02:50.061462                      15.087               15.375  "
            ],
            "text/html": [
              "\n",
              "  <div id=\"df-046a70ee-a7ab-4b46-8632-21fb87fbd2fb\">\n",
              "    <div class=\"colab-df-container\">\n",
              "      <div>\n",
              "<style scoped>\n",
              "    .dataframe tbody tr th:only-of-type {\n",
              "        vertical-align: middle;\n",
              "    }\n",
              "\n",
              "    .dataframe tbody tr th {\n",
              "        vertical-align: top;\n",
              "    }\n",
              "\n",
              "    .dataframe thead th {\n",
              "        text-align: right;\n",
              "    }\n",
              "</style>\n",
              "<table border=\"1\" class=\"dataframe\">\n",
              "  <thead>\n",
              "    <tr style=\"text-align: right;\">\n",
              "      <th></th>\n",
              "      <th>Test_Time(s)</th>\n",
              "      <th>Cycle_Index</th>\n",
              "      <th>Current(A)</th>\n",
              "      <th>Voltage(V)</th>\n",
              "      <th>Charge_Capacity(Ah)</th>\n",
              "      <th>Discharge_Capacity(Ah)</th>\n",
              "      <th>Charge_Energy(Wh)</th>\n",
              "      <th>Discharge_Energy(Wh)</th>\n",
              "      <th>Environment_Temperature(C)</th>\n",
              "      <th>Cell_Temperature(C)</th>\n",
              "    </tr>\n",
              "    <tr>\n",
              "      <th>Date_Time</th>\n",
              "      <th></th>\n",
              "      <th></th>\n",
              "      <th></th>\n",
              "      <th></th>\n",
              "      <th></th>\n",
              "      <th></th>\n",
              "      <th></th>\n",
              "      <th></th>\n",
              "      <th></th>\n",
              "      <th></th>\n",
              "    </tr>\n",
              "  </thead>\n",
              "  <tbody>\n",
              "    <tr>\n",
              "      <th>2018-02-01 10:02:10.002962</th>\n",
              "      <td>10.002</td>\n",
              "      <td>1.0</td>\n",
              "      <td>0.0</td>\n",
              "      <td>2.940</td>\n",
              "      <td>0.0</td>\n",
              "      <td>0.0</td>\n",
              "      <td>0.0</td>\n",
              "      <td>0.0</td>\n",
              "      <td>15.163</td>\n",
              "      <td>15.375</td>\n",
              "    </tr>\n",
              "    <tr>\n",
              "      <th>2018-02-01 10:02:20.016433</th>\n",
              "      <td>20.016</td>\n",
              "      <td>1.0</td>\n",
              "      <td>0.0</td>\n",
              "      <td>2.941</td>\n",
              "      <td>0.0</td>\n",
              "      <td>0.0</td>\n",
              "      <td>0.0</td>\n",
              "      <td>0.0</td>\n",
              "      <td>15.148</td>\n",
              "      <td>15.437</td>\n",
              "    </tr>\n",
              "    <tr>\n",
              "      <th>2018-02-01 10:02:30.031429</th>\n",
              "      <td>30.031</td>\n",
              "      <td>1.0</td>\n",
              "      <td>0.0</td>\n",
              "      <td>2.941</td>\n",
              "      <td>0.0</td>\n",
              "      <td>0.0</td>\n",
              "      <td>0.0</td>\n",
              "      <td>0.0</td>\n",
              "      <td>15.087</td>\n",
              "      <td>15.375</td>\n",
              "    </tr>\n",
              "    <tr>\n",
              "      <th>2018-02-01 10:02:40.046426</th>\n",
              "      <td>40.046</td>\n",
              "      <td>1.0</td>\n",
              "      <td>0.0</td>\n",
              "      <td>2.941</td>\n",
              "      <td>0.0</td>\n",
              "      <td>0.0</td>\n",
              "      <td>0.0</td>\n",
              "      <td>0.0</td>\n",
              "      <td>15.240</td>\n",
              "      <td>15.375</td>\n",
              "    </tr>\n",
              "    <tr>\n",
              "      <th>2018-02-01 10:02:50.061462</th>\n",
              "      <td>50.061</td>\n",
              "      <td>1.0</td>\n",
              "      <td>0.0</td>\n",
              "      <td>2.941</td>\n",
              "      <td>0.0</td>\n",
              "      <td>0.0</td>\n",
              "      <td>0.0</td>\n",
              "      <td>0.0</td>\n",
              "      <td>15.087</td>\n",
              "      <td>15.375</td>\n",
              "    </tr>\n",
              "  </tbody>\n",
              "</table>\n",
              "</div>\n",
              "      <button class=\"colab-df-convert\" onclick=\"convertToInteractive('df-046a70ee-a7ab-4b46-8632-21fb87fbd2fb')\"\n",
              "              title=\"Convert this dataframe to an interactive table.\"\n",
              "              style=\"display:none;\">\n",
              "        \n",
              "  <svg xmlns=\"http://www.w3.org/2000/svg\" height=\"24px\"viewBox=\"0 0 24 24\"\n",
              "       width=\"24px\">\n",
              "    <path d=\"M0 0h24v24H0V0z\" fill=\"none\"/>\n",
              "    <path d=\"M18.56 5.44l.94 2.06.94-2.06 2.06-.94-2.06-.94-.94-2.06-.94 2.06-2.06.94zm-11 1L8.5 8.5l.94-2.06 2.06-.94-2.06-.94L8.5 2.5l-.94 2.06-2.06.94zm10 10l.94 2.06.94-2.06 2.06-.94-2.06-.94-.94-2.06-.94 2.06-2.06.94z\"/><path d=\"M17.41 7.96l-1.37-1.37c-.4-.4-.92-.59-1.43-.59-.52 0-1.04.2-1.43.59L10.3 9.45l-7.72 7.72c-.78.78-.78 2.05 0 2.83L4 21.41c.39.39.9.59 1.41.59.51 0 1.02-.2 1.41-.59l7.78-7.78 2.81-2.81c.8-.78.8-2.07 0-2.86zM5.41 20L4 18.59l7.72-7.72 1.47 1.35L5.41 20z\"/>\n",
              "  </svg>\n",
              "      </button>\n",
              "      \n",
              "  <style>\n",
              "    .colab-df-container {\n",
              "      display:flex;\n",
              "      flex-wrap:wrap;\n",
              "      gap: 12px;\n",
              "    }\n",
              "\n",
              "    .colab-df-convert {\n",
              "      background-color: #E8F0FE;\n",
              "      border: none;\n",
              "      border-radius: 50%;\n",
              "      cursor: pointer;\n",
              "      display: none;\n",
              "      fill: #1967D2;\n",
              "      height: 32px;\n",
              "      padding: 0 0 0 0;\n",
              "      width: 32px;\n",
              "    }\n",
              "\n",
              "    .colab-df-convert:hover {\n",
              "      background-color: #E2EBFA;\n",
              "      box-shadow: 0px 1px 2px rgba(60, 64, 67, 0.3), 0px 1px 3px 1px rgba(60, 64, 67, 0.15);\n",
              "      fill: #174EA6;\n",
              "    }\n",
              "\n",
              "    [theme=dark] .colab-df-convert {\n",
              "      background-color: #3B4455;\n",
              "      fill: #D2E3FC;\n",
              "    }\n",
              "\n",
              "    [theme=dark] .colab-df-convert:hover {\n",
              "      background-color: #434B5C;\n",
              "      box-shadow: 0px 1px 3px 1px rgba(0, 0, 0, 0.15);\n",
              "      filter: drop-shadow(0px 1px 2px rgba(0, 0, 0, 0.3));\n",
              "      fill: #FFFFFF;\n",
              "    }\n",
              "  </style>\n",
              "\n",
              "      <script>\n",
              "        const buttonEl =\n",
              "          document.querySelector('#df-046a70ee-a7ab-4b46-8632-21fb87fbd2fb button.colab-df-convert');\n",
              "        buttonEl.style.display =\n",
              "          google.colab.kernel.accessAllowed ? 'block' : 'none';\n",
              "\n",
              "        async function convertToInteractive(key) {\n",
              "          const element = document.querySelector('#df-046a70ee-a7ab-4b46-8632-21fb87fbd2fb');\n",
              "          const dataTable =\n",
              "            await google.colab.kernel.invokeFunction('convertToInteractive',\n",
              "                                                     [key], {});\n",
              "          if (!dataTable) return;\n",
              "\n",
              "          const docLinkHtml = 'Like what you see? Visit the ' +\n",
              "            '<a target=\"_blank\" href=https://colab.research.google.com/notebooks/data_table.ipynb>data table notebook</a>'\n",
              "            + ' to learn more about interactive tables.';\n",
              "          element.innerHTML = '';\n",
              "          dataTable['output_type'] = 'display_data';\n",
              "          await google.colab.output.renderOutput(dataTable, element);\n",
              "          const docLink = document.createElement('div');\n",
              "          docLink.innerHTML = docLinkHtml;\n",
              "          element.appendChild(docLink);\n",
              "        }\n",
              "      </script>\n",
              "    </div>\n",
              "  </div>\n",
              "  "
            ]
          },
          "metadata": {}
        }
      ],
      "source": [
        "# dataset characteristics printing\n",
        "print(f'A number of datasets in the SkAB v1.0: {len(list_of_df)}\\n')\n",
        "print(f'Shape of the random dataset: {df.shape}\\n')\n",
        "#n_cp = sum([len(df[df.changepoint==1.]) for df in list_of_df])\n",
        "#n_outlier = sum([len(df[df.anomaly==1.]) for df in list_of_df])\n",
        "#print(f'A number of changepoints in the SkAB v1.0: {n_cp}\\n')\n",
        "#print(f'A number of outliers in the SkAB v1.0: {n_outlier}\\n')\n",
        "print(f'Head of the random dataset:')\n",
        "display(df.head())"
      ]
    },
    {
      "cell_type": "code",
      "source": [
        "df.drop([\"Test_Time(s)\",\"Cycle_Index\",\"Voltage(V)\",\"Charge_Capacity(Ah)\",\"Charge_Energy(Wh)\",\"Discharge_Energy(Wh)\",\"Cell_Temperature(C)\"], inplace=True, axis=1)"
      ],
      "metadata": {
        "id": "Qqezh4up6vcC"
      },
      "execution_count": 3,
      "outputs": []
    },
    {
      "cell_type": "code",
      "execution_count": null,
      "metadata": {
        "colab": {
          "base_uri": "https://localhost:8080/",
          "height": 594
        },
        "id": "WtCyH7nrxK2c",
        "outputId": "4137cb30-e6c7-44d2-b772-696338c5f2b3"
      },
      "outputs": [
        {
          "output_type": "display_data",
          "data": {
            "text/plain": [
              "<Figure size 1440x720 with 1 Axes>"
            ],
            "image/png": "[encoded data removed]"
          },
          "metadata": {
            "needs_background": "light"
          }
        }
      ],
      "source": [
        "# random dataset visualizing\n",
        "df.plot(figsize=(20,10))\n",
        "plt.xlabel('Time')\n",
        "plt.ylabel('Value')\n",
        "plt.title('Signals')\n",
        "plt.show()"
      ]
    },
    {
      "cell_type": "markdown",
      "metadata": {
        "id": "VdioL39jxK2d"
      },
      "source": [
        "## Labels"
      ]
    },
    {
      "cell_type": "code",
      "source": [
        "data = pd.DataFrame(df[650:1423])"
      ],
      "metadata": {
        "id": "-bPWzSo_XJoC"
      },
      "execution_count": null,
      "outputs": []
    },
    {
      "cell_type": "code",
      "execution_count": null,
      "metadata": {
        "colab": {
          "base_uri": "https://localhost:8080/",
          "height": 349
        },
        "id": "QrcOiE8uxK2d",
        "outputId": "1621f97a-8c57-45d6-a7b6-e10f770090fc"
      },
      "outputs": [
        {
          "output_type": "display_data",
          "data": {
            "text/plain": [
              "<Figure size 1728x432 with 1 Axes>"
            ],
            "image/png": "[encoded data removed]"
          },
          "metadata": {
            "needs_background": "light"
          }
        }
      ],
      "source": [
        "# plotting the labels both for outlier and changepoint detection problems\n",
        "data.plot(figsize=(24,6))\n",
        "#list_of_df[0].changepoint.plot()\n",
        "plt.legend()\n",
        "plt.show()"
      ]
    },
    {
      "cell_type": "markdown",
      "metadata": {
        "id": "uDGhAD5IxK2e"
      },
      "source": [
        "## Method applying"
      ]
    },
    {
      "cell_type": "code",
      "execution_count": 4,
      "metadata": {
        "id": "db6h-F1sxK2f"
      },
      "outputs": [],
      "source": [
        "import numpy as np\n",
        "from tensorflow import keras\n",
        "from tensorflow.keras import layers\n",
        "from sklearn.metrics import mean_absolute_error, mean_squared_error\n",
        "from scipy.signal import medfilt\n",
        "from sklearn import decomposition\n",
        "from sklearn.model_selection import train_test_split\n",
        "\n",
        "from sklearn.preprocessing import StandardScaler\n",
        "\n",
        "from itertools import product"
      ]
    },
    {
      "cell_type": "code",
      "execution_count": 5,
      "metadata": {
        "id": "_D1dV9rNxK2g"
      },
      "outputs": [],
      "source": [
        "# Function for repeatability\n",
        "def Random(seed_value):\n",
        "    # 1. Set `PYTHONHASHSEED` environment variable at a fixed value\n",
        "    import os\n",
        "    os.environ['PYTHONHASHSEED']=str(seed_value)\n",
        "\n",
        "    # 2. Set `python` built-in pseudo-random generator at a fixed value\n",
        "    import random\n",
        "    random.seed(seed_value)\n",
        "\n",
        "    # 3. Set `numpy` pseudo-random generator at a fixed value\n",
        "    import numpy as np\n",
        "    np.random.seed(seed_value)\n",
        "\n",
        "    # 4. Set `tensorflow` pseudo-random generator at a fixed value\n",
        "    import tensorflow as tf\n",
        "    tf.random.set_seed(seed_value)"
      ]
    },
    {
      "cell_type": "code",
      "execution_count": 7,
      "metadata": {
        "scrolled": true,
        "id": "x0KnWfZ6xK2h"
      },
      "outputs": [],
      "source": [
        "def arch(data):\n",
        "    Random(0)\n",
        "    model = keras.Sequential(\n",
        "        [\n",
        "            layers.Input(shape=(data.shape[1], data.shape[2])),\n",
        "            layers.Conv1D(\n",
        "                filters=32, kernel_size=7, padding=\"same\", strides=2, activation=\"relu\"\n",
        "            ),\n",
        "            layers.Dropout(rate=0.2),\n",
        "            layers.Conv1D(\n",
        "                filters=16, kernel_size=7, padding=\"same\", strides=2, activation=\"relu\"\n",
        "            ),\n",
        "            layers.Conv1DTranspose(\n",
        "                filters=16, kernel_size=7, padding=\"same\", strides=2, activation=\"relu\"\n",
        "            ),\n",
        "            layers.Dropout(rate=0.2),\n",
        "            layers.Conv1DTranspose(\n",
        "                filters=32, kernel_size=7, padding=\"same\", strides=2, activation=\"relu\"\n",
        "            ),\n",
        "            layers.Conv1DTranspose(filters=1, kernel_size=7, padding=\"same\"),\n",
        "        ]\n",
        "    )\n",
        "    model.compile(optimizer=keras.optimizers.Adam(learning_rate=0.001), loss=\"mse\")\n",
        "    # model.summary()\n",
        "\n",
        "    history = model.fit(\n",
        "        data,\n",
        "        data,\n",
        "        epochs=100,\n",
        "        batch_size=32,\n",
        "        validation_split=0.1,\n",
        "        verbose=0,\n",
        "        callbacks=[\n",
        "            keras.callbacks.EarlyStopping(monitor=\"val_loss\", patience=5, mode=\"min\", verbose=0)\n",
        "        ],\n",
        "    )\n",
        "    return history, model"
      ]
    },
    {
      "cell_type": "markdown",
      "metadata": {
        "id": "z6LH6WIbxK2j"
      },
      "source": [
        "### Training in the beginning of each dataset"
      ]
    },
    {
      "cell_type": "code",
      "source": [
        "N_STEPS = 60"
      ],
      "metadata": {
        "id": "1S95rlcYbeDt"
      },
      "execution_count": 9,
      "outputs": []
    },
    {
      "cell_type": "code",
      "execution_count": 10,
      "metadata": {
        "id": "_e01jX-fxK2k"
      },
      "outputs": [],
      "source": [
        "# Generated training sequences for use in the model.\n",
        "def create_sequences(values, time_steps=N_STEPS):\n",
        "    output = []\n",
        "    for i in range(len(values) - time_steps + 1):\n",
        "        output.append(values[i : (i + time_steps)])\n",
        "    return np.stack(output)"
      ]
    },
    {
      "cell_type": "code",
      "source": [
        "df"
      ],
      "metadata": {
        "id": "jD-iAFAS4Rp2",
        "outputId": "406d430b-529d-4b14-f81f-c2a07d1c0f84",
        "colab": {
          "base_uri": "https://localhost:8080/",
          "height": 442
        }
      },
      "execution_count": 6,
      "outputs": [
        {
          "output_type": "execute_result",
          "data": {
            "text/plain": [
              "                            Current_A  Discharge_Capacity  \\\n",
              "Date_Time                                                   \n",
              "2018-02-01 10:02:10.002962      0.000               0.000   \n",
              "2018-02-01 10:02:20.016433      0.000               0.000   \n",
              "2018-02-01 10:02:30.031429      0.000               0.000   \n",
              "2018-02-01 10:02:40.046426      0.000               0.000   \n",
              "2018-02-01 10:02:50.061462      0.000               0.000   \n",
              "...                               ...                 ...   \n",
              "2018-05-13 07:29:24.144877     -1.100               0.256   \n",
              "2018-05-13 07:31:24.152100     -1.100               0.293   \n",
              "2018-05-13 07:33:24.162624     -1.099               0.330   \n",
              "2018-05-13 07:35:24.175924     -1.100               0.366   \n",
              "2018-05-13 07:37:24.184009     -1.099               0.403   \n",
              "\n",
              "                            Environment_Temperature  \n",
              "Date_Time                                            \n",
              "2018-02-01 10:02:10.002962                   15.163  \n",
              "2018-02-01 10:02:20.016433                   15.148  \n",
              "2018-02-01 10:02:30.031429                   15.087  \n",
              "2018-02-01 10:02:40.046426                   15.240  \n",
              "2018-02-01 10:02:50.061462                   15.087  \n",
              "...                                             ...  \n",
              "2018-05-13 07:29:24.144877                   14.990  \n",
              "2018-05-13 07:31:24.152100                   14.744  \n",
              "2018-05-13 07:33:24.162624                   14.713  \n",
              "2018-05-13 07:35:24.175924                   14.790  \n",
              "2018-05-13 07:37:24.184009                   14.590  \n",
              "\n",
              "[65534 rows x 3 columns]"
            ],
            "text/html": [
              "\n",
              "  <div id=\"df-de2dc7c8-0d50-4c29-b3cc-e41301e5fafa\">\n",
              "    <div class=\"colab-df-container\">\n",
              "      <div>\n",
              "<style scoped>\n",
              "    .dataframe tbody tr th:only-of-type {\n",
              "        vertical-align: middle;\n",
              "    }\n",
              "\n",
              "    .dataframe tbody tr th {\n",
              "        vertical-align: top;\n",
              "    }\n",
              "\n",
              "    .dataframe thead th {\n",
              "        text-align: right;\n",
              "    }\n",
              "</style>\n",
              "<table border=\"1\" class=\"dataframe\">\n",
              "  <thead>\n",
              "    <tr style=\"text-align: right;\">\n",
              "      <th></th>\n",
              "      <th>Current_A</th>\n",
              "      <th>Discharge_Capacity</th>\n",
              "      <th>Environment_Temperature</th>\n",
              "    </tr>\n",
              "    <tr>\n",
              "      <th>Date_Time</th>\n",
              "      <th></th>\n",
              "      <th></th>\n",
              "      <th></th>\n",
              "    </tr>\n",
              "  </thead>\n",
              "  <tbody>\n",
              "    <tr>\n",
              "      <th>2018-02-01 10:02:10.002962</th>\n",
              "      <td>0.000</td>\n",
              "      <td>0.000</td>\n",
              "      <td>15.163</td>\n",
              "    </tr>\n",
              "    <tr>\n",
              "      <th>2018-02-01 10:02:20.016433</th>\n",
              "      <td>0.000</td>\n",
              "      <td>0.000</td>\n",
              "      <td>15.148</td>\n",
              "    </tr>\n",
              "    <tr>\n",
              "      <th>2018-02-01 10:02:30.031429</th>\n",
              "      <td>0.000</td>\n",
              "      <td>0.000</td>\n",
              "      <td>15.087</td>\n",
              "    </tr>\n",
              "    <tr>\n",
              "      <th>2018-02-01 10:02:40.046426</th>\n",
              "      <td>0.000</td>\n",
              "      <td>0.000</td>\n",
              "      <td>15.240</td>\n",
              "    </tr>\n",
              "    <tr>\n",
              "      <th>2018-02-01 10:02:50.061462</th>\n",
              "      <td>0.000</td>\n",
              "      <td>0.000</td>\n",
              "      <td>15.087</td>\n",
              "    </tr>\n",
              "    <tr>\n",
              "      <th>...</th>\n",
              "      <td>...</td>\n",
              "      <td>...</td>\n",
              "      <td>...</td>\n",
              "    </tr>\n",
              "    <tr>\n",
              "      <th>2018-05-13 07:29:24.144877</th>\n",
              "      <td>-1.100</td>\n",
              "      <td>0.256</td>\n",
              "      <td>14.990</td>\n",
              "    </tr>\n",
              "    <tr>\n",
              "      <th>2018-05-13 07:31:24.152100</th>\n",
              "      <td>-1.100</td>\n",
              "      <td>0.293</td>\n",
              "      <td>14.744</td>\n",
              "    </tr>\n",
              "    <tr>\n",
              "      <th>2018-05-13 07:33:24.162624</th>\n",
              "      <td>-1.099</td>\n",
              "      <td>0.330</td>\n",
              "      <td>14.713</td>\n",
              "    </tr>\n",
              "    <tr>\n",
              "      <th>2018-05-13 07:35:24.175924</th>\n",
              "      <td>-1.100</td>\n",
              "      <td>0.366</td>\n",
              "      <td>14.790</td>\n",
              "    </tr>\n",
              "    <tr>\n",
              "      <th>2018-05-13 07:37:24.184009</th>\n",
              "      <td>-1.099</td>\n",
              "      <td>0.403</td>\n",
              "      <td>14.590</td>\n",
              "    </tr>\n",
              "  </tbody>\n",
              "</table>\n",
              "<p>65534 rows × 3 columns</p>\n",
              "</div>\n",
              "      <button class=\"colab-df-convert\" onclick=\"convertToInteractive('df-de2dc7c8-0d50-4c29-b3cc-e41301e5fafa')\"\n",
              "              title=\"Convert this dataframe to an interactive table.\"\n",
              "              style=\"display:none;\">\n",
              "        \n",
              "  <svg xmlns=\"http://www.w3.org/2000/svg\" height=\"24px\"viewBox=\"0 0 24 24\"\n",
              "       width=\"24px\">\n",
              "    <path d=\"M0 0h24v24H0V0z\" fill=\"none\"/>\n",
              "    <path d=\"M18.56 5.44l.94 2.06.94-2.06 2.06-.94-2.06-.94-.94-2.06-.94 2.06-2.06.94zm-11 1L8.5 8.5l.94-2.06 2.06-.94-2.06-.94L8.5 2.5l-.94 2.06-2.06.94zm10 10l.94 2.06.94-2.06 2.06-.94-2.06-.94-.94-2.06-.94 2.06-2.06.94z\"/><path d=\"M17.41 7.96l-1.37-1.37c-.4-.4-.92-.59-1.43-.59-.52 0-1.04.2-1.43.59L10.3 9.45l-7.72 7.72c-.78.78-.78 2.05 0 2.83L4 21.41c.39.39.9.59 1.41.59.51 0 1.02-.2 1.41-.59l7.78-7.78 2.81-2.81c.8-.78.8-2.07 0-2.86zM5.41 20L4 18.59l7.72-7.72 1.47 1.35L5.41 20z\"/>\n",
              "  </svg>\n",
              "      </button>\n",
              "      \n",
              "  <style>\n",
              "    .colab-df-container {\n",
              "      display:flex;\n",
              "      flex-wrap:wrap;\n",
              "      gap: 12px;\n",
              "    }\n",
              "\n",
              "    .colab-df-convert {\n",
              "      background-color: #E8F0FE;\n",
              "      border: none;\n",
              "      border-radius: 50%;\n",
              "      cursor: pointer;\n",
              "      display: none;\n",
              "      fill: #1967D2;\n",
              "      height: 32px;\n",
              "      padding: 0 0 0 0;\n",
              "      width: 32px;\n",
              "    }\n",
              "\n",
              "    .colab-df-convert:hover {\n",
              "      background-color: #E2EBFA;\n",
              "      box-shadow: 0px 1px 2px rgba(60, 64, 67, 0.3), 0px 1px 3px 1px rgba(60, 64, 67, 0.15);\n",
              "      fill: #174EA6;\n",
              "    }\n",
              "\n",
              "    [theme=dark] .colab-df-convert {\n",
              "      background-color: #3B4455;\n",
              "      fill: #D2E3FC;\n",
              "    }\n",
              "\n",
              "    [theme=dark] .colab-df-convert:hover {\n",
              "      background-color: #434B5C;\n",
              "      box-shadow: 0px 1px 3px 1px rgba(0, 0, 0, 0.15);\n",
              "      filter: drop-shadow(0px 1px 2px rgba(0, 0, 0, 0.3));\n",
              "      fill: #FFFFFF;\n",
              "    }\n",
              "  </style>\n",
              "\n",
              "      <script>\n",
              "        const buttonEl =\n",
              "          document.querySelector('#df-de2dc7c8-0d50-4c29-b3cc-e41301e5fafa button.colab-df-convert');\n",
              "        buttonEl.style.display =\n",
              "          google.colab.kernel.accessAllowed ? 'block' : 'none';\n",
              "\n",
              "        async function convertToInteractive(key) {\n",
              "          const element = document.querySelector('#df-de2dc7c8-0d50-4c29-b3cc-e41301e5fafa');\n",
              "          const dataTable =\n",
              "            await google.colab.kernel.invokeFunction('convertToInteractive',\n",
              "                                                     [key], {});\n",
              "          if (!dataTable) return;\n",
              "\n",
              "          const docLinkHtml = 'Like what you see? Visit the ' +\n",
              "            '<a target=\"_blank\" href=https://colab.research.google.com/notebooks/data_table.ipynb>data table notebook</a>'\n",
              "            + ' to learn more about interactive tables.';\n",
              "          element.innerHTML = '';\n",
              "          dataTable['output_type'] = 'display_data';\n",
              "          await google.colab.output.renderOutput(dataTable, element);\n",
              "          const docLink = document.createElement('div');\n",
              "          docLink.innerHTML = docLinkHtml;\n",
              "          element.appendChild(docLink);\n",
              "        }\n",
              "      </script>\n",
              "    </div>\n",
              "  </div>\n",
              "  "
            ]
          },
          "metadata": {},
          "execution_count": 6
        }
      ]
    },
    {
      "cell_type": "code",
      "execution_count": 11,
      "metadata": {
        "id": "PG3AIyErxK2l"
      },
      "outputs": [],
      "source": [
        "# hyperparameters selection\n",
        "Q = 0.999 # quantile for upper control limit (UCL) selection\n",
        "\n",
        "# inference\n",
        "predicted_outlier, predicted_cp = [], []\n",
        "Q = 0.999 # quantile for upper control limit (UCL) selection\n",
        "\n",
        "# inference\n",
        "predicted_outlier, predicted_cp = [], []\n",
        "X_train = df[:400]\n",
        "    \n",
        "    # scaler init and fitting\n",
        "StSc = StandardScaler()\n",
        "StSc.fit(X_train)\n",
        "    \n",
        "    # convert into input/output\n",
        "X = create_sequences(StSc.transform(X_train), N_STEPS)\n",
        "    \n",
        "    # model defining and fitting\n",
        "history, model = arch(X)\n",
        "    \n",
        "    # results predicting\n",
        "residuals = pd.Series(np.sum(np.mean(np.abs(X - model.predict(X)), axis=1), axis=1))\n",
        "UCL = residuals.quantile(Q)\n",
        "    \n",
        "    # results predicting\n",
        "X = create_sequences(StSc.transform(df), N_STEPS)\n",
        "cnn_residuals = pd.Series(np.sum(np.mean(np.abs(X - model.predict(X)), axis=1), axis=1))\n",
        "    \n",
        "    # data i is an anomaly if samples [(i - timesteps + 1) to (i)] are anomalies\n",
        "anomalous_data = cnn_residuals > (3/2 * UCL)\n",
        "anomalous_data_indices = []\n",
        "for data_idx in range(N_STEPS - 1, len(X) - N_STEPS + 1):\n",
        "    if np.all(anomalous_data[data_idx - N_STEPS + 1 : data_idx]):\n",
        "        anomalous_data_indices.append(data_idx)\n",
        "    \n",
        "prediction = pd.Series(data=0, index=df.index)\n",
        "prediction.iloc[anomalous_data_indices] = 1\n",
        "    \n",
        "    # predicted outliers saving\n",
        "predicted_outlier.append(prediction)\n",
        "    \n",
        "    # predicted CPs saving\n",
        "prediction_cp = abs(prediction.diff())\n",
        "prediction_cp[0] = prediction[0]\n",
        "predicted_cp.append(prediction_cp)\n",
        "X_train = df[:400]\n",
        "    \n",
        "    # scaler init and fitting\n",
        "StSc = StandardScaler()\n",
        "StSc.fit(X_train)\n",
        "    \n",
        "    # convert into input/output\n",
        "X = create_sequences(StSc.transform(X_train), N_STEPS)\n",
        "    \n",
        "    # model defining and fitting\n",
        "history, model = arch(X)\n",
        "    \n",
        "    # results predicting\n",
        "residuals = pd.Series(np.sum(np.mean(np.abs(X - model.predict(X)), axis=1), axis=1))\n",
        "UCL = residuals.quantile(Q)\n",
        "    \n",
        "    # results predicting\n",
        "X = create_sequences(StSc.transform(df), N_STEPS)\n",
        "cnn_residuals = pd.Series(np.sum(np.mean(np.abs(X - model.predict(X)), axis=1), axis=1))\n",
        "    \n",
        "    # data i is an anomaly if samples [(i - timesteps + 1) to (i)] are anomalies\n",
        "anomalous_data = cnn_residuals > (3/2 * UCL)\n",
        "anomalous_data_indices = []\n",
        "for data_idx in range(N_STEPS - 1, len(X) - N_STEPS + 1):\n",
        "    if np.all(anomalous_data[data_idx - N_STEPS + 1 : data_idx]):\n",
        "        anomalous_data_indices.append(data_idx)\n",
        "    \n",
        "prediction = pd.Series(data=0, index=df.index)\n",
        "prediction.iloc[anomalous_data_indices] = 1\n",
        "    \n",
        "    # predicted outliers saving\n",
        "predicted_outlier.append(prediction)\n",
        "    \n",
        "    # predicted CPs saving\n",
        "\n",
        "prediction_cp = abs(prediction.diff())\n",
        "prediction_cp[0] = prediction[0]\n",
        "predicted_cp.append(prediction_cp)"
      ]
    },
    {
      "cell_type": "markdown",
      "metadata": {
        "id": "YXC-DyumxK2m"
      },
      "source": [
        "### Results"
      ]
    },
    {
      "cell_type": "code",
      "source": [
        "predict = predicted_outlier[0]"
      ],
      "metadata": {
        "id": "I0V_Y5vT1Cln"
      },
      "execution_count": 12,
      "outputs": []
    },
    {
      "cell_type": "code",
      "execution_count": 15,
      "metadata": {
        "colab": {
          "base_uri": "https://localhost:8080/",
          "height": 350
        },
        "id": "TJTsJTytxK2m",
        "outputId": "dd5e4361-3c3f-4f49-b268-1f8bf835a35e"
      },
      "outputs": [
        {
          "output_type": "display_data",
          "data": {
            "text/plain": [
              "<Figure size 1728x432 with 1 Axes>"
            ],
            "image/png": "[encoded data removed]"
          },
          "metadata": {
            "needs_background": "light"
          }
        }
      ],
      "source": [
        "# true outlier indices selection\n",
        "true_outlier = df.Discharge_Capacity\n",
        "\n",
        "predict[4700:6000].plot(figsize=(24, 6), label='predictions', marker='o', markersize=5)\n",
        "true_outlier[4700:6000].plot(marker='o', markersize=2)\n",
        "\n",
        "plt.legend();"
      ]
    },
    {
      "cell_type": "code",
      "source": [
        "true_outlier = df.Discharge_Capacity[:1500]\n",
        "\n",
        "# predicted_outlier[0].plot(figsize=(24, 6), label='predictions', marker='o', markersize=5)\n",
        "true_outlier.plot(marker='o', markersize=2)\n",
        "\n",
        "plt.legend();"
      ],
      "metadata": {
        "id": "MlnGJ5jRxjS_",
        "outputId": "1edbf894-cdc3-4733-ff49-ed896df0b8db",
        "colab": {
          "base_uri": "https://localhost:8080/",
          "height": 278
        }
      },
      "execution_count": null,
      "outputs": [
        {
          "output_type": "display_data",
          "data": {
            "text/plain": [
              "<Figure size 432x288 with 1 Axes>"
            ],
            "image/png": "[encoded data removed]"
          },
          "metadata": {
            "needs_background": "light"
          }
        }
      ]
    },
    {
      "cell_type": "markdown",
      "metadata": {
        "id": "k-adaqbYxK2o"
      },
      "source": [
        "## Metrics calculation"
      ]
    },
    {
      "cell_type": "code",
      "execution_count": null,
      "metadata": {
        "id": "wFKOsRopxK2p",
        "outputId": "edd363b9-7a1a-4453-de62-81a124a84d70"
      },
      "outputs": [
        {
          "name": "stdout",
          "output_type": "stream",
          "text": [
            "False Alarm Rate 13.69 %\n",
            "Missing Alarm Rate 17.77 %\n",
            "F1 metric 0.79\n"
          ]
        }
      ],
      "source": [
        "# binary classification metrics calculation\n",
        "binary = evaluating_change_point(true_outlier, predicted_outlier, metric='binary', numenta_time='30 sec')"
      ]
    },
    {
      "cell_type": "code",
      "execution_count": null,
      "metadata": {
        "id": "1ZfVZE7oxK2q",
        "outputId": "0552d8b3-c259-4eb6-a860-58cca5a9b790"
      },
      "outputs": [
        {
          "name": "stdout",
          "output_type": "stream",
          "text": [
            "Average delay 0 days 00:00:13.428571428\n",
            "A number of missed CPs = 116\n"
          ]
        }
      ],
      "source": [
        "# average detection delay metric calculation\n",
        "add = evaluating_change_point(true_cp, predicted_cp, metric='average_delay', numenta_time='30 sec')"
      ]
    },
    {
      "cell_type": "code",
      "execution_count": null,
      "metadata": {
        "id": "9QcLifM6xK2q",
        "outputId": "7b590e7c-360e-4b91-be83-f3c46f6a2a83"
      },
      "outputs": [
        {
          "name": "stdout",
          "output_type": "stream",
          "text": [
            "Intersection of the windows of too wide widths for dataset 16\n",
            "Intersection of the windows of too wide widths for dataset 16\n",
            "Intersection of the windows of too wide widths for dataset 16\n",
            "Intersection of the windows of too wide widths for dataset 18\n",
            "Intersection of the windows of too wide widths for dataset 18\n",
            "Intersection of the windows of too wide widths for dataset 18\n",
            "Intersection of the windows of too wide widths for dataset 19\n",
            "Intersection of the windows of too wide widths for dataset 19\n",
            "Intersection of the windows of too wide widths for dataset 19\n",
            "Intersection of the windows of too wide widths for dataset 23\n",
            "Intersection of the windows of too wide widths for dataset 23\n",
            "Intersection of the windows of too wide widths for dataset 23\n",
            "Intersection of the windows of too wide widths for dataset 23\n",
            "Intersection of the windows of too wide widths for dataset 23\n",
            "Intersection of the windows of too wide widths for dataset 23\n",
            "Intersection of the windows of too wide widths for dataset 27\n",
            "Intersection of the windows of too wide widths for dataset 27\n",
            "Intersection of the windows of too wide widths for dataset 27\n",
            "Intersection of the windows of too wide widths for dataset 32\n",
            "Intersection of the windows of too wide widths for dataset 32\n",
            "Intersection of the windows of too wide widths for dataset 32\n",
            "Standart  -  10.09\n",
            "LowFP  -  8.62\n",
            "LowFN  -  10.83\n"
          ]
        }
      ],
      "source": [
        "# nab metric calculation\n",
        "nab = evaluating_change_point(true_cp, predicted_cp, metric='nab', numenta_time='30 sec')"
      ]
    }
  ],
  "metadata": {
    "kernelspec": {
      "display_name": "Python 3",
      "language": "python",
      "name": "python3"
    },
    "language_info": {
      "codemirror_mode": {
        "name": "ipython",
        "version": 3
      },
      "file_extension": ".py",
      "mimetype": "text/x-python",
      "name": "python",
      "nbconvert_exporter": "python",
      "pygments_lexer": "ipython3",
      "version": "3.8.2"
    },
    "colab": {
      "name": "original_dataset",
      "provenance": []
    },
    "accelerator": "GPU"
  },
  "nbformat": 4,
  "nbformat_minor": 0
}